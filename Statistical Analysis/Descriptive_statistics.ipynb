{
 "cells": [
  {
   "cell_type": "code",
   "execution_count": 17,
   "metadata": {},
   "outputs": [],
   "source": [
    "import pandas as pd\n",
    "import numpy as np\n",
    "import os\n",
    "from datetime import datetime\n",
    "from scipy.stats import chi2_contingency\n",
    "from scipy.stats import ttest_ind\n",
    "import numpy as np\n",
    "pd.set_option('display.max_columns', None)\n",
    "\n",
    "from tqdm import tqdm\n",
    "\n",
    "tqdm.pandas()"
   ]
  },
  {
   "cell_type": "markdown",
   "metadata": {},
   "source": [
    "## Table 1 statistics"
   ]
  },
  {
   "cell_type": "code",
   "execution_count": 18,
   "metadata": {},
   "outputs": [],
   "source": [
    "pou_outcome = pd.read_csv('pou_outcome.csv')"
   ]
  },
  {
   "cell_type": "code",
   "execution_count": 20,
   "metadata": {},
   "outputs": [
    {
     "data": {
      "text/plain": [
       "(96974, 0.20701425124260112, 20075)"
      ]
     },
     "execution_count": 20,
     "metadata": {},
     "output_type": "execute_result"
    }
   ],
   "source": [
    "len(pou_outcome), pou_outcome['Prolonged_user'].mean(), pou_outcome['Prolonged_user'].sum()"
   ]
  },
  {
   "cell_type": "code",
   "execution_count": 41,
   "metadata": {},
   "outputs": [
    {
     "name": "stderr",
     "output_type": "stream",
     "text": [
      "/home/ubuntu/.local/lib/python3.6/site-packages/IPython/core/interactiveshell.py:3072: DtypeWarning: Columns (12,21) have mixed types.Specify dtype option on import or set low_memory=False.\n",
      "  interactivity=interactivity, compiler=compiler, result=result)\n"
     ]
    },
    {
     "data": {
      "text/plain": [
       "46"
      ]
     },
     "execution_count": 41,
     "metadata": {},
     "output_type": "execute_result"
    }
   ],
   "source": [
    "master_df = pd.read_csv('cohort_12-04.csv')\n",
    "temp_cols = master_df.columns\n",
    "\n",
    "len([x for x in temp_cols if x.endswith('MME') or x.endswith('nb_prescriptions') or x.endswith('is_initial') or x.endswith('nb_fills') or x.endswith('nb') or x == 'Longest_continuous_opioid_use' or x == 'opioid_naive'])"
   ]
  },
  {
   "cell_type": "code",
   "execution_count": 46,
   "metadata": {},
   "outputs": [
    {
     "data": {
      "text/plain": [
       "('2016-01-01', '2020-06-30')"
      ]
     },
     "execution_count": 46,
     "metadata": {},
     "output_type": "execute_result"
    }
   ],
   "source": [
    "master_df['SURG_DT'].min(), master_df['SURG_DT'].max()"
   ]
  },
  {
   "cell_type": "code",
   "execution_count": 53,
   "metadata": {},
   "outputs": [],
   "source": [
    "master_df['year'] = master_df['SURG_DT'].apply(lambda x: x[:4])"
   ]
  },
  {
   "cell_type": "code",
   "execution_count": 54,
   "metadata": {},
   "outputs": [
    {
     "data": {
      "text/plain": [
       "96974"
      ]
     },
     "execution_count": 54,
     "metadata": {},
     "output_type": "execute_result"
    }
   ],
   "source": [
    "len(master_df)"
   ]
  },
  {
   "cell_type": "code",
   "execution_count": 55,
   "metadata": {},
   "outputs": [
    {
     "name": "stdout",
     "output_type": "stream",
     "text": [
      "86510 (89.2)\n",
      "10464 (10.8)\n"
     ]
    }
   ],
   "source": [
    "feature = 'Outcome_6months'\n",
    "for x in list(master_df[feature].value_counts().values):\n",
    "    print('{} ({})'.format(x, round(100*x/np.sum(master_df[feature].value_counts().values), 1)))"
   ]
  },
  {
   "cell_type": "code",
   "execution_count": 56,
   "metadata": {},
   "outputs": [
    {
     "name": "stdout",
     "output_type": "stream",
     "text": [
      "66859 (69.4)\n",
      "29509 (30.6)\n",
      "---------\n",
      "60026 (89.8)\n",
      "25910 (87.8)\n",
      "--------\n",
      "6833 (10.2)\n",
      "3599 (12.2)\n",
      "--------\n"
     ]
    }
   ],
   "source": [
    "feature = 'GENCD_RF'\n",
    "\n",
    "cross_tab = pd.crosstab(master_df['Outcome_6months'], master_df[feature])\n",
    "vals = cross_tab.values\n",
    "normal_vals = vals/np.sum(vals, axis = 0)\n",
    "\n",
    "for x in list(master_df[feature].value_counts().values)[:-1]:\n",
    "    print('{} ({})'.format(x, round(100*x/np.sum(master_df[feature].value_counts().values), 1)))\n",
    "\n",
    "print('---------')\n",
    "for i in range(vals.shape[0]):\n",
    "    for j in range(vals.shape[1]-1):\n",
    "        print('{} ({})'.format(vals[i,j], round(100*normal_vals[i,j], 1)))\n",
    "        \n",
    "    print('--------')"
   ]
  },
  {
   "cell_type": "code",
   "execution_count": 57,
   "metadata": {},
   "outputs": [
    {
     "name": "stdout",
     "output_type": "stream",
     "text": [
      "9.702706183567162e-19\n"
     ]
    }
   ],
   "source": [
    "p_val_chi2 = chi2_contingency(cross_tab.values)[1]\n",
    "\n",
    "print(p_val_chi2)"
   ]
  },
  {
   "cell_type": "code",
   "execution_count": 58,
   "metadata": {},
   "outputs": [
    {
     "name": "stdout",
     "output_type": "stream",
     "text": [
      "Appendectomy\n",
      "CABG\n",
      "ColorecResect\n",
      "DistalRadFrac\n",
      "ExciLysisPeriAdhesions\n",
      "HysterecAbVag\n",
      "InguinHerniaRepair\n",
      "KneeReplacement\n",
      "OophorectomyUniBi\n",
      "OtherHand\n",
      "PartialExcBone\n",
      "SpinalFusion\n",
      "TreatFracDisHipFemur\n",
      "TreatFracDisLowExtremity\n",
      "cholecystectomy\n",
      "laminectomy\n",
      "mastectomy\n",
      "prostatectomy\n",
      "thoracotomy\n",
      "---------\n",
      "7178 (7.4)\n",
      "970 (1.0)\n",
      "1208 (1.2)\n",
      "2331 (2.4)\n",
      "2037 (2.1)\n",
      "12477 (12.9)\n",
      "10539 (10.9)\n",
      "3818 (3.9)\n",
      "8497 (8.8)\n",
      "460 (0.5)\n",
      "4802 (5.0)\n",
      "4614 (4.8)\n",
      "1706 (1.8)\n",
      "8338 (8.6)\n",
      "19479 (20.1)\n",
      "4168 (4.3)\n",
      "1053 (1.1)\n",
      "225 (0.2)\n",
      "3074 (3.2)\n",
      "---------\n",
      "6787 (94.6)\n",
      "865 (89.2)\n",
      "1075 (89.0)\n",
      "2098 (90.0)\n",
      "1769 (86.8)\n",
      "11289 (90.5)\n",
      "9519 (90.3)\n",
      "3208 (84.0)\n",
      "7927 (93.3)\n",
      "398 (86.5)\n",
      "4236 (88.2)\n",
      "3568 (77.3)\n",
      "1430 (83.8)\n",
      "7468 (89.6)\n",
      "17864 (91.7)\n",
      "3391 (81.4)\n",
      "949 (90.1)\n",
      "209 (92.9)\n",
      "2460 (80.0)\n",
      "--------\n",
      "391 (5.4)\n",
      "105 (10.8)\n",
      "133 (11.0)\n",
      "233 (10.0)\n",
      "268 (13.2)\n",
      "1188 (9.5)\n",
      "1020 (9.7)\n",
      "610 (16.0)\n",
      "570 (6.7)\n",
      "62 (13.5)\n",
      "566 (11.8)\n",
      "1046 (22.7)\n",
      "276 (16.2)\n",
      "870 (10.4)\n",
      "1615 (8.3)\n",
      "777 (18.6)\n",
      "104 (9.9)\n",
      "16 (7.1)\n",
      "614 (20.0)\n",
      "--------\n"
     ]
    }
   ],
   "source": [
    "feature = 'Surgery_type'\n",
    "\n",
    "cross_tab = pd.crosstab(master_df['Outcome_6months'], master_df[feature])\n",
    "cross_tab = cross_tab[sorted(cross_tab.columns)]\n",
    "vals = cross_tab.values\n",
    "normal_vals = vals/np.sum(vals, axis = 0)\n",
    "\n",
    "counts_tab = master_df[feature].value_counts().loc[sorted(cross_tab.columns)]\n",
    "\n",
    "for x in counts_tab.index:\n",
    "    print(x)\n",
    "print('---------')\n",
    "for x in list(counts_tab.values):\n",
    "    print('{} ({})'.format(x, round(100*x/np.sum(counts_tab.values), 1)))\n",
    "\n",
    "print('---------')\n",
    "for i in range(vals.shape[0]):\n",
    "    for j in range(vals.shape[1]):\n",
    "        print('{} ({})'.format(vals[i,j], round(100*normal_vals[i,j], 1)))\n",
    "        \n",
    "    print('--------')"
   ]
  },
  {
   "cell_type": "code",
   "execution_count": 59,
   "metadata": {},
   "outputs": [
    {
     "name": "stdout",
     "output_type": "stream",
     "text": [
      "0.0\n"
     ]
    }
   ],
   "source": [
    "p_val_chi2 = chi2_contingency(cross_tab.values)[1]\n",
    "\n",
    "print(p_val_chi2)"
   ]
  },
  {
   "cell_type": "code",
   "execution_count": 60,
   "metadata": {},
   "outputs": [
    {
     "name": "stdout",
     "output_type": "stream",
     "text": [
      "2016\n",
      "2017\n",
      "2018\n",
      "2019\n",
      "2020\n",
      "---------\n",
      "11131 (11.5)\n",
      "21524 (22.2)\n",
      "21674 (22.4)\n",
      "28161 (29.0)\n",
      "14484 (14.9)\n",
      "---------\n",
      "10101 (90.7)\n",
      "19263 (89.5)\n",
      "19271 (88.9)\n",
      "25003 (88.8)\n",
      "12872 (88.9)\n",
      "--------\n",
      "1030 (9.3)\n",
      "2261 (10.5)\n",
      "2403 (11.1)\n",
      "3158 (11.2)\n",
      "1612 (11.1)\n",
      "--------\n"
     ]
    }
   ],
   "source": [
    "feature = 'year'\n",
    "\n",
    "cross_tab = pd.crosstab(master_df['Outcome_6months'], master_df[feature])\n",
    "cross_tab = cross_tab[sorted(cross_tab.columns)]\n",
    "vals = cross_tab.values\n",
    "normal_vals = vals/np.sum(vals, axis = 0)\n",
    "\n",
    "counts_tab = master_df[feature].value_counts().loc[sorted(cross_tab.columns)]\n",
    "\n",
    "for x in counts_tab.index:\n",
    "    print(x)\n",
    "print('---------')\n",
    "for x in list(counts_tab.values):\n",
    "    print('{} ({})'.format(x, round(100*x/np.sum(counts_tab.values), 1)))\n",
    "\n",
    "print('---------')\n",
    "for i in range(vals.shape[0]):\n",
    "    for j in range(vals.shape[1]):\n",
    "        print('{} ({})'.format(vals[i,j], round(100*normal_vals[i,j], 1)))\n",
    "        \n",
    "    print('--------')"
   ]
  },
  {
   "cell_type": "code",
   "execution_count": 61,
   "metadata": {},
   "outputs": [
    {
     "name": "stdout",
     "output_type": "stream",
     "text": [
      "1.0658420841766034e-07\n"
     ]
    }
   ],
   "source": [
    "p_val_chi2 = chi2_contingency(cross_tab.values)[1]\n",
    "\n",
    "print(p_val_chi2)"
   ]
  },
  {
   "cell_type": "code",
   "execution_count": 62,
   "metadata": {},
   "outputs": [
    {
     "name": "stdout",
     "output_type": "stream",
     "text": [
      "State 1\n",
      "State 2\n",
      "State 3\n",
      "State 4\n",
      "State 5\n",
      "State 6\n",
      "State 7\n",
      "---------\n",
      "38922 (40.1)\n",
      "38717 (39.9)\n",
      "7980 (8.2)\n",
      "4731 (4.9)\n",
      "4164 (4.3)\n",
      "1487 (1.5)\n",
      "973 (1.0)\n",
      "---------\n",
      "34891 (89.6)\n",
      "34552 (89.2)\n",
      "6906 (86.5)\n",
      "3937 (83.2)\n",
      "3917 (94.1)\n",
      "1411 (94.9)\n",
      "896 (92.1)\n",
      "--------\n",
      "4031 (10.4)\n",
      "4165 (10.8)\n",
      "1074 (13.5)\n",
      "794 (16.8)\n",
      "247 (5.9)\n",
      "76 (5.1)\n",
      "77 (7.9)\n",
      "--------\n"
     ]
    }
   ],
   "source": [
    "feature = 'State'\n",
    "\n",
    "cross_tab = pd.crosstab(master_df['Outcome_6months'], master_df[feature])\n",
    "\n",
    "\n",
    "counts_tab = master_df[feature].value_counts()\n",
    "\n",
    "cross_tab = cross_tab[counts_tab.index]\n",
    "vals = cross_tab.values\n",
    "normal_vals = vals/np.sum(vals, axis = 0)\n",
    "\n",
    "\n",
    "# for x in counts_tab.index:\n",
    "#     print(x)\n",
    "# print('---------')\n",
    "\n",
    "for i in range(len(counts_tab.index)):\n",
    "    print('State {}'.format(i+1))\n",
    "    \n",
    "print('---------')\n",
    "    \n",
    "for x in list(counts_tab.values):\n",
    "    print('{} ({})'.format(x, round(100*x/np.sum(counts_tab.values), 1)))\n",
    "\n",
    "print('---------')\n",
    "for i in range(vals.shape[0]):\n",
    "    for j in range(vals.shape[1]):\n",
    "        print('{} ({})'.format(vals[i,j], round(100*normal_vals[i,j], 1)))\n",
    "        \n",
    "    print('--------')"
   ]
  },
  {
   "cell_type": "code",
   "execution_count": 63,
   "metadata": {},
   "outputs": [
    {
     "name": "stdout",
     "output_type": "stream",
     "text": [
      "5.025159232470712e-84\n"
     ]
    }
   ],
   "source": [
    "p_val_chi2 = chi2_contingency(cross_tab.values)[1]\n",
    "\n",
    "print(p_val_chi2)"
   ]
  },
  {
   "cell_type": "code",
   "execution_count": 31,
   "metadata": {},
   "outputs": [
    {
     "name": "stdout",
     "output_type": "stream",
     "text": [
      "1\n",
      "0\n",
      "---------\n",
      "---------\n",
      "64528 (66.5)\n",
      "32446 (33.5)\n",
      "---------\n",
      "59769 (92.6)\n",
      "26741 (82.4)\n",
      "--------\n",
      "4759 (7.4)\n",
      "5705 (17.6)\n",
      "--------\n"
     ]
    }
   ],
   "source": [
    "feature = 'opioid_naive'\n",
    "\n",
    "cross_tab = pd.crosstab(master_df['Outcome_6months'], master_df[feature])\n",
    "\n",
    "\n",
    "counts_tab = master_df[feature].value_counts()\n",
    "\n",
    "cross_tab = cross_tab[counts_tab.index]\n",
    "vals = cross_tab.values\n",
    "normal_vals = vals/np.sum(vals, axis = 0)\n",
    "\n",
    "\n",
    "for x in counts_tab.index:\n",
    "    print(x)\n",
    "print('---------')\n",
    "\n",
    "    \n",
    "print('---------')\n",
    "    \n",
    "for x in list(counts_tab.values):\n",
    "    print('{} ({})'.format(x, round(100*x/np.sum(counts_tab.values), 1)))\n",
    "\n",
    "print('---------')\n",
    "for i in range(vals.shape[0]):\n",
    "    for j in range(vals.shape[1]):\n",
    "        print('{} ({})'.format(vals[i,j], round(100*normal_vals[i,j], 1)))\n",
    "        \n",
    "    print('--------')"
   ]
  },
  {
   "cell_type": "code",
   "execution_count": 32,
   "metadata": {},
   "outputs": [
    {
     "name": "stdout",
     "output_type": "stream",
     "text": [
      "0.0\n"
     ]
    }
   ],
   "source": [
    "p_val_chi2 = chi2_contingency(cross_tab.values)[1]\n",
    "\n",
    "print(p_val_chi2)"
   ]
  },
  {
   "cell_type": "code",
   "execution_count": 15,
   "metadata": {},
   "outputs": [
    {
     "name": "stdout",
     "output_type": "stream",
     "text": [
      "2.3261716599485443e-221\n",
      "Overall: 40.47 (13.53)\n",
      "No OUD: 40.04 (13.70)\n",
      "OUD: 43.98 (11.50)\n"
     ]
    }
   ],
   "source": [
    "a = master_df[master_df['Outcome_6months']==0]['Age'].values.reshape((-1,1))\n",
    "\n",
    "b = master_df[master_df['Outcome_6months']==1]['Age'].values.reshape((-1,1))\n",
    "\n",
    "print(ttest_ind(a,b, equal_var = False, nan_policy = 'omit')[1])\n",
    "print('Overall: {:.2f} ({:.2f})'.format(master_df['Age'].mean(), master_df['Age'].std()))\n",
    "print('No OUD: {:.2f} ({:.2f})'.format(np.nanmean(a), np.nanstd(a)))\n",
    "print('OUD: {:.2f} ({:.2f})'.format(np.nanmean(b), np.nanstd(b)))\n"
   ]
  },
  {
   "cell_type": "markdown",
   "metadata": {},
   "source": [
    "## Statistics on outcomes"
   ]
  },
  {
   "cell_type": "code",
   "execution_count": 71,
   "metadata": {},
   "outputs": [
    {
     "data": {
      "text/plain": [
       "False    91.746241\n",
       "True      8.253759\n",
       "Name: Outcome_3months, dtype: float64"
      ]
     },
     "execution_count": 71,
     "metadata": {},
     "output_type": "execute_result"
    }
   ],
   "source": [
    "100*master_df.Outcome_3months.value_counts(normalize = True)"
   ]
  },
  {
   "cell_type": "code",
   "execution_count": 72,
   "metadata": {},
   "outputs": [
    {
     "data": {
      "text/plain": [
       "False    89.209479\n",
       "True     10.790521\n",
       "Name: Outcome_6months, dtype: float64"
      ]
     },
     "execution_count": 72,
     "metadata": {},
     "output_type": "execute_result"
    }
   ],
   "source": [
    "100*master_df.Outcome_6months.value_counts(normalize = True)"
   ]
  },
  {
   "cell_type": "code",
   "execution_count": 73,
   "metadata": {},
   "outputs": [
    {
     "data": {
      "text/plain": [
       "False    85.835379\n",
       "True     14.164621\n",
       "Name: Outcome_12months, dtype: float64"
      ]
     },
     "execution_count": 73,
     "metadata": {},
     "output_type": "execute_result"
    }
   ],
   "source": [
    "100*master_df.Outcome_12months.value_counts(normalize = True)"
   ]
  },
  {
   "cell_type": "code",
   "execution_count": 14,
   "metadata": {},
   "outputs": [
    {
     "data": {
      "text/plain": [
       "0    91.710051\n",
       "1     8.289949\n",
       "Name: Outcome_Abuse_3months, dtype: float64"
      ]
     },
     "execution_count": 14,
     "metadata": {},
     "output_type": "execute_result"
    }
   ],
   "source": [
    "100*master_df.Outcome_Abuse_3months.value_counts(normalize = True)"
   ]
  },
  {
   "cell_type": "code",
   "execution_count": 7,
   "metadata": {},
   "outputs": [
    {
     "data": {
      "text/plain": [
       "0    89.669396\n",
       "1    10.330604\n",
       "Name: Outcome_Abuse_6months, dtype: float64"
      ]
     },
     "execution_count": 7,
     "metadata": {},
     "output_type": "execute_result"
    }
   ],
   "source": [
    "100*master_df.Outcome_Abuse_6months.value_counts(normalize = True)"
   ]
  },
  {
   "cell_type": "code",
   "execution_count": 75,
   "metadata": {},
   "outputs": [
    {
     "data": {
      "text/plain": [
       "0    86.380886\n",
       "1    13.619114\n",
       "Name: Outcome_Abuse_12months, dtype: float64"
      ]
     },
     "execution_count": 75,
     "metadata": {},
     "output_type": "execute_result"
    }
   ],
   "source": [
    "100*master_df.Outcome_Abuse_12months.value_counts(normalize = True)"
   ]
  },
  {
   "cell_type": "code",
   "execution_count": 76,
   "metadata": {},
   "outputs": [
    {
     "data": {
      "text/plain": [
       "0    99.309093\n",
       "1     0.690907\n",
       "Name: Outcome_Overdose_3months, dtype: float64"
      ]
     },
     "execution_count": 76,
     "metadata": {},
     "output_type": "execute_result"
    }
   ],
   "source": [
    "100*master_df.Outcome_Overdose_3months.value_counts(normalize = True)"
   ]
  },
  {
   "cell_type": "code",
   "execution_count": 9,
   "metadata": {},
   "outputs": [
    {
     "data": {
      "text/plain": [
       "0    99.063667\n",
       "1     0.936333\n",
       "Name: Outcome_Overdose_6months, dtype: float64"
      ]
     },
     "execution_count": 9,
     "metadata": {},
     "output_type": "execute_result"
    }
   ],
   "source": [
    "100*master_df.Outcome_Overdose_6months.value_counts(normalize = True)"
   ]
  },
  {
   "cell_type": "code",
   "execution_count": 78,
   "metadata": {},
   "outputs": [
    {
     "data": {
      "text/plain": [
       "0    98.590344\n",
       "1     1.409656\n",
       "Name: Outcome_Overdose_12months, dtype: float64"
      ]
     },
     "execution_count": 78,
     "metadata": {},
     "output_type": "execute_result"
    }
   ],
   "source": [
    "100*master_df.Outcome_Overdose_12months.value_counts(normalize = True)"
   ]
  },
  {
   "cell_type": "markdown",
   "metadata": {},
   "source": [
    "## Statistical tests on obesity, depression and diabetes"
   ]
  },
  {
   "cell_type": "code",
   "execution_count": 4,
   "metadata": {},
   "outputs": [],
   "source": [
    "obesity_codes = ['END009']\n",
    "diabetes_codes = ['PRG019'] + ['END00{}'.format(i) for i in range(2,7)]\n",
    "depression_codes = ['MBD002']"
   ]
  },
  {
   "cell_type": "code",
   "execution_count": 5,
   "metadata": {},
   "outputs": [],
   "source": [
    "master_df['obesity'] = (master_df[['Diag_'+c for c in obesity_codes]].sum(axis = 1) > 0).astype(int)\n",
    "master_df['diabetes'] = (master_df[['Diag_'+c for c in diabetes_codes]].sum(axis = 1) > 0).astype(int)\n",
    "master_df['depression'] = (master_df[['Diag_'+c for c in depression_codes]].sum(axis = 1) > 0).astype(int)"
   ]
  },
  {
   "cell_type": "code",
   "execution_count": 5,
   "metadata": {},
   "outputs": [
    {
     "name": "stdout",
     "output_type": "stream",
     "text": [
      "---------\n",
      "28422 (29.3)\n",
      "---------\n",
      "61254 (89.4)\n",
      "25256 (88.9)\n",
      "--------\n",
      "7298 (10.6)\n",
      "3166 (11.1)\n",
      "--------\n"
     ]
    }
   ],
   "source": [
    "feature = 'obesity'\n",
    "\n",
    "cross_tab = pd.crosstab(master_df['Outcome_6months'], master_df[feature])\n",
    "\n",
    "\n",
    "counts_tab = master_df[feature].value_counts()\n",
    "\n",
    "cross_tab = cross_tab[counts_tab.index]\n",
    "vals = cross_tab.values\n",
    "normal_vals = vals/np.sum(vals, axis = 0)\n",
    "\n",
    "    \n",
    "print('---------')\n",
    "    \n",
    "for x in list(counts_tab.values[1:]):\n",
    "    print('{} ({})'.format(x, round(100*x/np.sum(counts_tab.values), 1)))\n",
    "\n",
    "print('---------')\n",
    "for i in range(vals.shape[0]):\n",
    "    for j in range(vals.shape[1]):\n",
    "        print('{} ({})'.format(vals[i,j], round(100*normal_vals[i,j], 1)))\n",
    "        \n",
    "    print('--------')\n"
   ]
  },
  {
   "cell_type": "code",
   "execution_count": 6,
   "metadata": {},
   "outputs": [
    {
     "name": "stdout",
     "output_type": "stream",
     "text": [
      "---------\n",
      "22766 (23.5)\n",
      "---------\n",
      "67724 (91.3)\n",
      "18786 (82.5)\n",
      "--------\n",
      "6484 (8.7)\n",
      "3980 (17.5)\n",
      "--------\n"
     ]
    }
   ],
   "source": [
    "feature = 'depression'\n",
    "\n",
    "cross_tab = pd.crosstab(master_df['Outcome_6months'], master_df[feature])\n",
    "\n",
    "\n",
    "counts_tab = master_df[feature].value_counts()\n",
    "\n",
    "cross_tab = cross_tab[counts_tab.index]\n",
    "vals = cross_tab.values\n",
    "normal_vals = vals/np.sum(vals, axis = 0)\n",
    "\n",
    "    \n",
    "print('---------')\n",
    "    \n",
    "for x in list(counts_tab.values[1:]):\n",
    "    print('{} ({})'.format(x, round(100*x/np.sum(counts_tab.values), 1)))\n",
    "\n",
    "print('---------')\n",
    "for i in range(vals.shape[0]):\n",
    "    for j in range(vals.shape[1]):\n",
    "        print('{} ({})'.format(vals[i,j], round(100*normal_vals[i,j], 1)))\n",
    "        \n",
    "    print('--------')"
   ]
  },
  {
   "cell_type": "code",
   "execution_count": 8,
   "metadata": {},
   "outputs": [
    {
     "name": "stdout",
     "output_type": "stream",
     "text": [
      "---------\n",
      "14755 (15.2)\n",
      "---------\n",
      "73681 (89.6)\n",
      "12829 (86.9)\n",
      "--------\n",
      "8538 (10.4)\n",
      "1926 (13.1)\n",
      "--------\n"
     ]
    }
   ],
   "source": [
    "feature = 'diabetes'\n",
    "\n",
    "cross_tab = pd.crosstab(master_df['Outcome_6months'], master_df[feature])\n",
    "\n",
    "\n",
    "counts_tab = master_df[feature].value_counts()\n",
    "\n",
    "cross_tab = cross_tab[counts_tab.index]\n",
    "vals = cross_tab.values\n",
    "normal_vals = vals/np.sum(vals, axis = 0)\n",
    "\n",
    "    \n",
    "print('---------')\n",
    "    \n",
    "for x in list(counts_tab.values[1:]):\n",
    "    print('{} ({})'.format(x, round(100*x/np.sum(counts_tab.values), 1)))\n",
    "\n",
    "print('---------')\n",
    "for i in range(vals.shape[0]):\n",
    "    for j in range(vals.shape[1]):\n",
    "        print('{} ({})'.format(vals[i,j], round(100*normal_vals[i,j], 1)))\n",
    "        \n",
    "    print('--------')"
   ]
  },
  {
   "cell_type": "code",
   "execution_count": 24,
   "metadata": {},
   "outputs": [
    {
     "data": {
      "text/html": [
       "<div>\n",
       "<style scoped>\n",
       "    .dataframe tbody tr th:only-of-type {\n",
       "        vertical-align: middle;\n",
       "    }\n",
       "\n",
       "    .dataframe tbody tr th {\n",
       "        vertical-align: top;\n",
       "    }\n",
       "\n",
       "    .dataframe thead th {\n",
       "        text-align: right;\n",
       "    }\n",
       "</style>\n",
       "<table border=\"1\" class=\"dataframe\">\n",
       "  <thead>\n",
       "    <tr style=\"text-align: right;\">\n",
       "      <th>diabetes</th>\n",
       "      <th>0</th>\n",
       "      <th>1</th>\n",
       "    </tr>\n",
       "    <tr>\n",
       "      <th>Outcome_6months</th>\n",
       "      <th></th>\n",
       "      <th></th>\n",
       "    </tr>\n",
       "  </thead>\n",
       "  <tbody>\n",
       "    <tr>\n",
       "      <th>False</th>\n",
       "      <td>0.851705</td>\n",
       "      <td>0.148295</td>\n",
       "    </tr>\n",
       "    <tr>\n",
       "      <th>True</th>\n",
       "      <td>0.815940</td>\n",
       "      <td>0.184060</td>\n",
       "    </tr>\n",
       "  </tbody>\n",
       "</table>\n",
       "</div>"
      ],
      "text/plain": [
       "diabetes                0         1\n",
       "Outcome_6months                    \n",
       "False            0.851705  0.148295\n",
       "True             0.815940  0.184060"
      ]
     },
     "execution_count": 24,
     "metadata": {},
     "output_type": "execute_result"
    }
   ],
   "source": [
    "feature = 'diabetes'\n",
    "cross_tab = pd.crosstab(master_df['Outcome_6months'], master_df[feature], normalize = 'index')\n",
    "cross_tab"
   ]
  },
  {
   "cell_type": "code",
   "execution_count": 25,
   "metadata": {},
   "outputs": [
    {
     "data": {
      "text/html": [
       "<div>\n",
       "<style scoped>\n",
       "    .dataframe tbody tr th:only-of-type {\n",
       "        vertical-align: middle;\n",
       "    }\n",
       "\n",
       "    .dataframe tbody tr th {\n",
       "        vertical-align: top;\n",
       "    }\n",
       "\n",
       "    .dataframe thead th {\n",
       "        text-align: right;\n",
       "    }\n",
       "</style>\n",
       "<table border=\"1\" class=\"dataframe\">\n",
       "  <thead>\n",
       "    <tr style=\"text-align: right;\">\n",
       "      <th>depression</th>\n",
       "      <th>0</th>\n",
       "      <th>1</th>\n",
       "    </tr>\n",
       "    <tr>\n",
       "      <th>Outcome_6months</th>\n",
       "      <th></th>\n",
       "      <th></th>\n",
       "    </tr>\n",
       "  </thead>\n",
       "  <tbody>\n",
       "    <tr>\n",
       "      <th>False</th>\n",
       "      <td>0.782846</td>\n",
       "      <td>0.217154</td>\n",
       "    </tr>\n",
       "    <tr>\n",
       "      <th>True</th>\n",
       "      <td>0.619648</td>\n",
       "      <td>0.380352</td>\n",
       "    </tr>\n",
       "  </tbody>\n",
       "</table>\n",
       "</div>"
      ],
      "text/plain": [
       "depression              0         1\n",
       "Outcome_6months                    \n",
       "False            0.782846  0.217154\n",
       "True             0.619648  0.380352"
      ]
     },
     "execution_count": 25,
     "metadata": {},
     "output_type": "execute_result"
    }
   ],
   "source": [
    "feature = 'depression'\n",
    "cross_tab = pd.crosstab(master_df['Outcome_6months'], master_df[feature], normalize = 'index')\n",
    "cross_tab"
   ]
  },
  {
   "cell_type": "code",
   "execution_count": 26,
   "metadata": {},
   "outputs": [
    {
     "data": {
      "text/html": [
       "<div>\n",
       "<style scoped>\n",
       "    .dataframe tbody tr th:only-of-type {\n",
       "        vertical-align: middle;\n",
       "    }\n",
       "\n",
       "    .dataframe tbody tr th {\n",
       "        vertical-align: top;\n",
       "    }\n",
       "\n",
       "    .dataframe thead th {\n",
       "        text-align: right;\n",
       "    }\n",
       "</style>\n",
       "<table border=\"1\" class=\"dataframe\">\n",
       "  <thead>\n",
       "    <tr style=\"text-align: right;\">\n",
       "      <th>obesity</th>\n",
       "      <th>0</th>\n",
       "      <th>1</th>\n",
       "    </tr>\n",
       "    <tr>\n",
       "      <th>Outcome_6months</th>\n",
       "      <th></th>\n",
       "      <th></th>\n",
       "    </tr>\n",
       "  </thead>\n",
       "  <tbody>\n",
       "    <tr>\n",
       "      <th>False</th>\n",
       "      <td>0.708057</td>\n",
       "      <td>0.291943</td>\n",
       "    </tr>\n",
       "    <tr>\n",
       "      <th>True</th>\n",
       "      <td>0.697439</td>\n",
       "      <td>0.302561</td>\n",
       "    </tr>\n",
       "  </tbody>\n",
       "</table>\n",
       "</div>"
      ],
      "text/plain": [
       "obesity                 0         1\n",
       "Outcome_6months                    \n",
       "False            0.708057  0.291943\n",
       "True             0.697439  0.302561"
      ]
     },
     "execution_count": 26,
     "metadata": {},
     "output_type": "execute_result"
    }
   ],
   "source": [
    "feature = 'obesity'\n",
    "cross_tab = pd.crosstab(master_df['Outcome_6months'], master_df[feature], normalize = 'index')\n",
    "cross_tab"
   ]
  },
  {
   "cell_type": "code",
   "execution_count": 27,
   "metadata": {},
   "outputs": [
    {
     "name": "stdout",
     "output_type": "stream",
     "text": [
      "0.024933202146094433\n",
      "0.007237502979036814 0.024208385342149846\n",
      "1.0521482491200222 0.024381600130089682\n",
      "5.079586289860136 0.024209145877740337\n"
     ]
    }
   ],
   "source": [
    "# Now, let's do some statistical tests\n",
    "\n",
    "from scipy.stats import pearsonr, fisher_exact, kruskal\n",
    "\n",
    "feature = 'obesity'\n",
    "\n",
    "### Chi-square\n",
    "\n",
    "cross_tab = pd.crosstab(master_df['Outcome_6months'], master_df[feature])\n",
    "p_val_chi2 = chi2_contingency(cross_tab.values)[1]\n",
    "\n",
    "print(p_val_chi2)\n",
    "\n",
    "\n",
    "### Pearson correlation (aka Spearman here since we have bernoulli variables)\n",
    "\n",
    "pearson_corr, pearson_pval = pearsonr(master_df['Outcome_6months'], master_df[feature])\n",
    "\n",
    "print(pearson_corr, pearson_pval)\n",
    "\n",
    "\n",
    "### Fisher's exact test\n",
    "\n",
    "fisher_corr, fisher_pval = fisher_exact(cross_tab)\n",
    "\n",
    "print(fisher_corr, fisher_pval)\n",
    "\n",
    "### Kruskal Wallis\n",
    "\n",
    "kru = kruskal(master_df[master_df[feature] == 1].Outcome_6months, master_df[master_df[feature] == 0].Outcome_6months)\n",
    "\n",
    "kruskal_stat, kruskal_pval = kru.statistic, kru.pvalue\n",
    "\n",
    "print(kruskal_stat, kruskal_pval)"
   ]
  },
  {
   "cell_type": "code",
   "execution_count": 28,
   "metadata": {},
   "outputs": [
    {
     "name": "stdout",
     "output_type": "stream",
     "text": [
      "7.5190575232521885e-22\n",
      "0.030894427786091666 6.400204801161458e-22\n",
      "1.2955758340684018 5.227240896514829e-21\n",
      "92.5573992452167 6.540017456324451e-22\n"
     ]
    }
   ],
   "source": [
    "# Now, let's do some statistical tests\n",
    "\n",
    "from scipy.stats import pearsonr, fisher_exact, kruskal\n",
    "\n",
    "feature = 'diabetes'\n",
    "\n",
    "### Chi-square\n",
    "\n",
    "cross_tab = pd.crosstab(master_df['Outcome_6months'], master_df[feature])\n",
    "p_val_chi2 = chi2_contingency(cross_tab.values)[1]\n",
    "\n",
    "print(p_val_chi2)\n",
    "\n",
    "\n",
    "### Pearson correlation (aka Spearman here since we have bernoulli variables)\n",
    "\n",
    "pearson_corr, pearson_pval = pearsonr(master_df['Outcome_6months'], master_df[feature])\n",
    "\n",
    "print(pearson_corr, pearson_pval)\n",
    "\n",
    "\n",
    "### Fisher's exact test\n",
    "\n",
    "fisher_corr, fisher_pval = fisher_exact(cross_tab)\n",
    "\n",
    "print(fisher_corr, fisher_pval)\n",
    "\n",
    "### Kruskal Wallis\n",
    "\n",
    "kru = kruskal(master_df[master_df[feature] == 1].Outcome_6months, master_df[master_df[feature] == 0].Outcome_6months)\n",
    "\n",
    "kruskal_stat, kruskal_pval = kru.statistic, kru.pvalue\n",
    "\n",
    "print(kruskal_stat, kruskal_pval)"
   ]
  },
  {
   "cell_type": "code",
   "execution_count": 29,
   "metadata": {},
   "outputs": [
    {
     "name": "stdout",
     "output_type": "stream",
     "text": [
      "1.0354420196492176e-302\n",
      "0.11946124830400845 4.561125161821755e-305\n",
      "2.2128315197641832 4.736533035195821e-275\n",
      "1383.9006983705265 6.619968773102608e-303\n"
     ]
    }
   ],
   "source": [
    "# Now, let's do some statistical tests\n",
    "\n",
    "from scipy.stats import pearsonr, fisher_exact, kruskal\n",
    "\n",
    "feature = 'depression'\n",
    "\n",
    "### Chi-square\n",
    "\n",
    "cross_tab = pd.crosstab(master_df['Outcome_6months'], master_df[feature])\n",
    "p_val_chi2 = chi2_contingency(cross_tab.values)[1]\n",
    "\n",
    "print(p_val_chi2)\n",
    "\n",
    "\n",
    "### Pearson correlation (aka Spearman here since we have bernoulli variables)\n",
    "\n",
    "pearson_corr, pearson_pval = pearsonr(master_df['Outcome_6months'], master_df[feature])\n",
    "\n",
    "print(pearson_corr, pearson_pval)\n",
    "\n",
    "\n",
    "### Fisher's exact test\n",
    "\n",
    "fisher_corr, fisher_pval = fisher_exact(cross_tab)\n",
    "\n",
    "print(fisher_corr, fisher_pval)\n",
    "\n",
    "### Kruskal Wallis\n",
    "\n",
    "kru = kruskal(master_df[master_df[feature] == 1].Outcome_6months, master_df[master_df[feature] == 0].Outcome_6months)\n",
    "\n",
    "kruskal_stat, kruskal_pval = kru.statistic, kru.pvalue\n",
    "\n",
    "print(kruskal_stat, kruskal_pval)"
   ]
  },
  {
   "cell_type": "markdown",
   "metadata": {},
   "source": [
    "## Graphs MME, outcomes for vulnerable populations"
   ]
  },
  {
   "cell_type": "code",
   "execution_count": 6,
   "metadata": {},
   "outputs": [],
   "source": [
    "import matplotlib.pyplot as plt"
   ]
  },
  {
   "cell_type": "code",
   "execution_count": 7,
   "metadata": {},
   "outputs": [],
   "source": [
    "pou_outcome = pd.read_csv('pou_outcome.csv')\n",
    "master_df = master_df.merge(pou_outcome, on = 'MA_NUM')\n",
    "master_df['year'] = master_df['SURG_DT'].apply(lambda x: x[:4])"
   ]
  },
  {
   "cell_type": "code",
   "execution_count": 8,
   "metadata": {},
   "outputs": [],
   "source": [
    "res = {}\n",
    "\n",
    "for feature in ['depression', 'diabetes', 'obesity', 'all']:\n",
    "    if feature == 'all':\n",
    "        temp = master_df\n",
    "        temp = master_df[(master_df['depression'] == 0) & (master_df['diabetes'] == 0) & (master_df['obesity'] == 0)]\n",
    "    else:\n",
    "        temp = master_df[master_df[feature] == 1]\n",
    "        \n",
    "    temp_MME = temp[temp.MME_initial != 0]\n",
    "    MMEs = temp_MME.groupby('year').MME_initial.mean()\n",
    "    OUDs = temp.groupby('year')['Outcome_6months'].mean()\n",
    "    POUs = temp.groupby('year')['Prolonged_user'].mean()\n",
    "    \n",
    "    res[feature] = [MMEs.values, OUDs.values, POUs.values]\n"
   ]
  },
  {
   "cell_type": "code",
   "execution_count": 9,
   "metadata": {},
   "outputs": [],
   "source": [
    "new_res = {}\n",
    "\n",
    "for feature in ['depression', 'diabetes', 'obesity', 'all']:\n",
    "    for i,x in enumerate(['_MME', '_OUD', '_POU']):\n",
    "        new_res[feature+x] = res[feature][i]\n",
    "        if i > 0:\n",
    "            new_res[feature+x] = 100*new_res[feature+x]\n",
    "            "
   ]
  },
  {
   "cell_type": "code",
   "execution_count": 10,
   "metadata": {},
   "outputs": [],
   "source": [
    "new_res = pd.DataFrame(new_res, index = ['2016', '2017', '2018', '2019', '2020'])\n",
    "new_res.to_csv('MME_outcomes_vulnerable_populations.csv')"
   ]
  },
  {
   "cell_type": "code",
   "execution_count": 12,
   "metadata": {},
   "outputs": [],
   "source": [
    "labels = ['Depression', 'Diabetes', 'Obesity', 'Control']\n",
    "years = ['2016', '2017', '2018', '2019', '2020']"
   ]
  },
  {
   "cell_type": "code",
   "execution_count": 13,
   "metadata": {},
   "outputs": [
    {
     "data": {
      "image/png": "[encoded data removed]",
      "text/plain": [
       "<Figure size 720x576 with 1 Axes>"
      ]
     },
     "metadata": {
      "needs_background": "light"
     },
     "output_type": "display_data"
    }
   ],
   "source": [
    "### MME plot\n",
    "\n",
    "plt.figure(figsize = (10,8))\n",
    "\n",
    "for i,feature in enumerate(['depression', 'diabetes', 'obesity', 'all']):\n",
    "    \n",
    "    plt.plot(range(5), res[feature][0], linestyle = '--', marker = 'o', label = labels[i])\n",
    "    plt.xticks(range(5),years)\n",
    "    \n",
    "\n",
    "plt.ylabel('Initial prescription MME')\n",
    "plt.ylim(0,50)\n",
    "plt.legend(loc = 'best')\n",
    "plt.savefig('mme_initial.svg')"
   ]
  },
  {
   "cell_type": "code",
   "execution_count": 14,
   "metadata": {},
   "outputs": [
    {
     "data": {
      "image/png": "[encoded data removed]",
      "text/plain": [
       "<Figure size 720x576 with 1 Axes>"
      ]
     },
     "metadata": {
      "needs_background": "light"
     },
     "output_type": "display_data"
    }
   ],
   "source": [
    "### OUD plot\n",
    "\n",
    "plt.figure(figsize = (10,8))\n",
    "\n",
    "for i,feature in enumerate(['depression', 'diabetes', 'obesity', 'all']):\n",
    "    \n",
    "    plt.plot(range(5), 100*res[feature][1], linestyle = '--', marker = 'o', label = labels[i])\n",
    "    plt.xticks(range(5),years)\n",
    "    \n",
    "\n",
    "plt.ylabel('OUD rate (%)')\n",
    "plt.ylim(0,20)\n",
    "plt.legend(loc = 'best')\n",
    "plt.savefig('oud_rate.svg')"
   ]
  },
  {
   "cell_type": "code",
   "execution_count": 16,
   "metadata": {},
   "outputs": [
    {
     "data": {
      "image/png": "[encoded data removed]",
      "text/plain": [
       "<Figure size 720x576 with 1 Axes>"
      ]
     },
     "metadata": {
      "needs_background": "light"
     },
     "output_type": "display_data"
    }
   ],
   "source": [
    "### OUD plot\n",
    "\n",
    "plt.figure(figsize = (10,8))\n",
    "\n",
    "for i,feature in enumerate(['depression', 'diabetes', 'obesity', 'all']):\n",
    "    \n",
    "    plt.plot(range(5), 100*res[feature][2], linestyle = '--', marker = 'o', label = labels[i])\n",
    "    plt.xticks(range(5),years)\n",
    "    \n",
    "\n",
    "plt.ylabel('Prolonged opioid use rate (%)')\n",
    "plt.ylim(0,40)\n",
    "plt.legend(loc = 'best')\n",
    "plt.savefig('prolonged_use_rate.svg')"
   ]
  }
 ],
 "metadata": {
  "kernelspec": {
   "display_name": "Python 3",
   "language": "python",
   "name": "python3"
  },
  "language_info": {
   "codemirror_mode": {
    "name": "ipython",
    "version": 3
   },
   "file_extension": ".py",
   "mimetype": "text/x-python",
   "name": "python",
   "nbconvert_exporter": "python",
   "pygments_lexer": "ipython3",
   "version": "3.8.3"
  }
 },
 "nbformat": 4,
 "nbformat_minor": 2
}
